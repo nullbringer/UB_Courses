{
 "cells": [
  {
   "cell_type": "code",
   "execution_count": 39,
   "metadata": {},
   "outputs": [],
   "source": [
    "# we are importing Kmeans package from scikit-learn \n",
    "# to divide the dataset in clusters\n",
    "from sklearn.cluster import KMeans\n",
    "import numpy as np\n",
    "import csv\n",
    "import math\n",
    "import matplotlib.pyplot\n",
    "from matplotlib import pyplot as plt"
   ]
  },
  {
   "cell_type": "code",
   "execution_count": 40,
   "metadata": {},
   "outputs": [],
   "source": [
    "maxAcc = 0.0\n",
    "maxIter = 0\n",
    "C_Lambda = 0.03\n",
    "TrainingPercent = 80\n",
    "ValidationPercent = 10\n",
    "TestPercent = 10\n",
    "\n",
    "#no of clusters\n",
    "M = 10\n",
    "PHI = []\n",
    "\n",
    "IsSynthetic = False"
   ]
  },
  {
   "cell_type": "code",
   "execution_count": 98,
   "metadata": {},
   "outputs": [],
   "source": [
    "# Iterates the file and returns list of target vectors\n",
    "def GetTargetVector(filePath):\n",
    "    t = []\n",
    "    with open(filePath, 'rU') as f:\n",
    "        reader = csv.reader(f)\n",
    "        for row in reader:  \n",
    "            t.append(int(row[0]))\n",
    "    #print(\"Raw Training Generated..\")\n",
    "    return t\n",
    "\n",
    "# Iterate the file, remove unimportant features and returns the transposed matrix\n",
    "def GenerateRawData(filePath, IsSynthetic):    \n",
    "    dataMatrix = [] \n",
    "    with open(filePath, 'rU') as fi:\n",
    "        reader = csv.reader(fi)\n",
    "        for row in reader:\n",
    "            dataRow = []\n",
    "            for column in row:\n",
    "                dataRow.append(float(column))\n",
    "            dataMatrix.append(dataRow)   \n",
    "    \n",
    "    # if this Flag is set to false, we are deleting the features with no values, \n",
    "    # as they do not add anything to the model as it has no co-variance.\n",
    "    \n",
    "    if IsSynthetic == False :\n",
    "        dataMatrix = np.delete(dataMatrix, [5,6,7,8,9], axis=1)\n",
    "    \n",
    "    dataMatrix = np.transpose(dataMatrix) \n",
    "    \n",
    "    return dataMatrix\n",
    "\n",
    "def GenerateTrainingTarget(rawTraining,TrainingPercent = 80):\n",
    "    TrainingLen = int(math.ceil(len(rawTraining)*(TrainingPercent*0.01)))\n",
    "    t           = rawTraining[:TrainingLen]\n",
    "\n",
    "\n",
    "    return t\n",
    "\n",
    "def GenerateTrainingDataMatrix(rawData, TrainingPercent = 80):\n",
    "    T_len = int(math.ceil(len(rawData[0])*0.01*TrainingPercent))\n",
    "    d2 = rawData[:,0:T_len]\n",
    "    #print(str(TrainingPercent) + \"% Training Data Generated..\")\n",
    "    return d2\n",
    "\n",
    "def GenerateValData(rawData, ValPercent, TrainingCount): \n",
    "    valSize = int(math.ceil(len(rawData[0])*ValPercent*0.01))\n",
    "    V_End = TrainingCount + valSize\n",
    "    dataMatrix = rawData[:,TrainingCount+1:V_End]\n",
    "    #print (str(ValPercent) + \"% Val Data Generated..\")  \n",
    "    return dataMatrix\n",
    "\n",
    "def GenerateValTargetVector(rawData, ValPercent, TrainingCount): \n",
    "    valSize = int(math.ceil(len(rawData)*ValPercent*0.01))\n",
    "    V_End = TrainingCount + valSize\n",
    "    t =rawData[TrainingCount+1:V_End]\n",
    "    #print (str(ValPercent) + \"% Val Target Data Generated..\")\n",
    "    return t\n",
    "\n",
    "def GenerateBigSigma(Data, MuMatrix,TrainingPercent,IsSynthetic):\n",
    "    BigSigma    = np.zeros((len(Data),len(Data)))\n",
    "    DataT       = np.transpose(Data)\n",
    "    TrainingLen = math.ceil(len(DataT)*(TrainingPercent*0.01))        \n",
    "    varVect     = []\n",
    "    \n",
    "    for i in range(0,len(DataT[0])):\n",
    "        vct = []\n",
    "        for j in range(0,int(TrainingLen)):\n",
    "            vct.append(Data[i][j]) \n",
    "        \n",
    "        # we are calculating the variance of a feature over all the datapoints\n",
    "        varVect.append(np.var(vct))\n",
    "    \n",
    "     \n",
    "    for j in range(len(Data)):\n",
    "        \n",
    "        # creating big Sigma which is a diagonal matrix consists of \n",
    "        #feature variance with a dimention of 41x41\n",
    "        \n",
    "        BigSigma[j][j] = varVect[j]\n",
    "    if IsSynthetic == True:\n",
    "        BigSigma = np.dot(3,BigSigma)\n",
    "    else:\n",
    "        \n",
    "        # We are scaling the bigSigma value. It is a hyper parameter, which can tweaked according \n",
    "        # to the problem at hand\n",
    "        \n",
    "        BigSigma = np.dot(200,BigSigma)\n",
    "    ##print (\"BigSigma Generated..\")\n",
    "    return BigSigma\n",
    "\n",
    "def GetScalar(DataRow,MuRow, BigSigInv):  \n",
    "    R = np.subtract(DataRow,MuRow)\n",
    "    T = np.dot(BigSigInv,np.transpose(R))  \n",
    "    L = np.dot(R,T)\n",
    "    return L\n",
    "\n",
    "# implementation of the formula of design matrix\n",
    "def GetRadialBasisOut(DataRow,MuRow, BigSigInv):    \n",
    "    phi_x = math.exp(-0.5*GetScalar(DataRow,MuRow,BigSigInv))\n",
    "    return phi_x\n",
    "\n",
    "# returns the value of design matrix\n",
    "# Each row in training dataset is getting evaluated against the mean\n",
    "# of each cluster. for example, if we divide the dataset in 10 clusters,\n",
    "# elements of design matrix will be returned, which is generated by computation\n",
    "# with each of centroid and all of training data.\n",
    "def GetPhiMatrix(Data, MuMatrix, BigSigma, TrainingPercent = 80):\n",
    "    DataT = np.transpose(Data)\n",
    "    TrainingLen = math.ceil(len(DataT)*(TrainingPercent*0.01))   \n",
    "\n",
    "    PHI = np.zeros((int(TrainingLen),len(MuMatrix))) \n",
    "    BigSigInv = np.linalg.inv(BigSigma)\n",
    "    for  C in range(0,len(MuMatrix)):\n",
    "        for R in range(0,int(TrainingLen)):            \n",
    "            PHI[R][C] = GetRadialBasisOut(DataT[R], MuMatrix[C], BigSigInv)\n",
    "    #print (\"PHI Generated..\")\n",
    "    return PHI\n",
    "\n",
    "#Generating weights by transposing design matrix and doing dot product with itself,\n",
    "# adding it to the Lambda hyperparameter, then multiplying it with the transpose of design matrix\n",
    "# and training data after inversing it.\n",
    "def GetWeightsClosedForm(PHI, T, Lambda):\n",
    "    Lambda_I = np.identity(len(PHI[0]))\n",
    "    for i in range(0,len(PHI[0])):\n",
    "        Lambda_I[i][i] = Lambda\n",
    "    PHI_T       = np.transpose(PHI)\n",
    "    PHI_SQR     = np.dot(PHI_T,PHI)\n",
    "    PHI_SQR_LI  = np.add(Lambda_I,PHI_SQR)\n",
    "    PHI_SQR_INV = np.linalg.inv(PHI_SQR_LI)\n",
    "    INTER       = np.dot(PHI_SQR_INV, PHI_T)\n",
    "    W           = np.dot(INTER, T)\n",
    "    ##print (\"Training Weights Generated..\")\n",
    "    return W\n",
    "\n",
    "# returns the output of model which we can compare to target values\n",
    "def GetValTest(VAL_PHI,W):\n",
    "    Y = np.dot(W,np.transpose(VAL_PHI))\n",
    "    ##print (\"Test Out Generated..\")\n",
    "    return Y\n",
    "\n",
    "# returns the Root-mean-square error and accuracy which can be later used \n",
    "# to understand how good the closed from solution did compared to real value\n",
    "\n",
    "def GetErms(VAL_TEST_OUT,ValDataAct):\n",
    "    sum = 0.0\n",
    "    t=0\n",
    "    accuracy = 0.0\n",
    "    counter = 0\n",
    "    val = 0.0\n",
    "    for i in range (0,len(VAL_TEST_OUT)):\n",
    "        sum = sum + math.pow((ValDataAct[i] - VAL_TEST_OUT[i]),2)\n",
    "        if(int(np.around(VAL_TEST_OUT[i], 0)) == ValDataAct[i]):\n",
    "            counter+=1\n",
    "    accuracy = (float((counter*100))/float(len(VAL_TEST_OUT)))\n",
    "    ##print (\"Accuracy Generated..\")\n",
    "    ##print (\"Validation E_RMS : \" + str(math.sqrt(sum/len(VAL_TEST_OUT))))\n",
    "    return (str(accuracy) + ',' +  str(math.sqrt(sum/len(VAL_TEST_OUT))))"
   ]
  },
  {
   "cell_type": "markdown",
   "metadata": {},
   "source": [
    "## Fetch and Prepare Dataset"
   ]
  },
  {
   "cell_type": "code",
   "execution_count": 112,
   "metadata": {},
   "outputs": [
    {
     "name": "stderr",
     "output_type": "stream",
     "text": [
      "/anaconda3/envs/tensorflow_env/lib/python3.6/site-packages/ipykernel_launcher.py:3: DeprecationWarning: 'U' mode is deprecated\n",
      "  This is separate from the ipykernel package so we can avoid doing imports until\n",
      "/anaconda3/envs/tensorflow_env/lib/python3.6/site-packages/ipykernel_launcher.py:12: DeprecationWarning: 'U' mode is deprecated\n",
      "  if sys.path[0] == '':\n"
     ]
    }
   ],
   "source": [
    "#loading the target dataset. in this datastucture 0 represents least relevent and 2 represents most relevent.\n",
    "RawTarget = GetTargetVector('Querylevelnorm_t.csv')\n",
    "\n",
    "# loading the dataset on which we will train, test and validate the model.\n",
    "RawData   = GenerateRawData('Querylevelnorm_X.csv',IsSynthetic)"
   ]
  },
  {
   "cell_type": "markdown",
   "metadata": {},
   "source": [
    "## Prepare Training Data"
   ]
  },
  {
   "cell_type": "code",
   "execution_count": 73,
   "metadata": {},
   "outputs": [
    {
     "name": "stdout",
     "output_type": "stream",
     "text": [
      "(55699,)\n",
      "(41, 55699)\n"
     ]
    }
   ],
   "source": [
    "# spliting the target data for training to map with training results.\n",
    "TrainingTarget = np.array(GenerateTrainingTarget(RawTarget,TrainingPercent))\n",
    "\n",
    "#Spliting 80% of data to train the model\n",
    "TrainingData   = GenerateTrainingDataMatrix(RawData,TrainingPercent)\n",
    "print(TrainingTarget.shape)\n",
    "print(TrainingData.shape)"
   ]
  },
  {
   "cell_type": "markdown",
   "metadata": {},
   "source": [
    "## Prepare Validation Data"
   ]
  },
  {
   "cell_type": "code",
   "execution_count": 61,
   "metadata": {},
   "outputs": [
    {
     "name": "stdout",
     "output_type": "stream",
     "text": [
      "(6962,)\n",
      "(41, 6962)\n"
     ]
    }
   ],
   "source": [
    "#Spliting 10% of data to validating and correcting the accuracy of the model\n",
    "ValDataAct = np.array(GenerateValTargetVector(RawTarget,ValidationPercent, (len(TrainingTarget))))\n",
    "ValData    = GenerateValData(RawData,ValidationPercent, (len(TrainingTarget)))\n",
    "print(ValDataAct.shape)\n",
    "print(ValData.shape)"
   ]
  },
  {
   "cell_type": "markdown",
   "metadata": {},
   "source": [
    "## Prepare Test Data"
   ]
  },
  {
   "cell_type": "code",
   "execution_count": 45,
   "metadata": {},
   "outputs": [
    {
     "name": "stdout",
     "output_type": "stream",
     "text": [
      "(6962,)\n",
      "(41, 6962)\n"
     ]
    }
   ],
   "source": [
    "#Slicing 10% of the data to check the model accuracy. \n",
    "TestDataAct = np.array(GenerateValTargetVector(RawTarget,TestPercent, (len(TrainingTarget)+len(ValDataAct))))\n",
    "TestData = GenerateValData(RawData,TestPercent, (len(TrainingTarget)+len(ValDataAct)))\n",
    "print(ValDataAct.shape)\n",
    "print(ValData.shape)"
   ]
  },
  {
   "cell_type": "markdown",
   "metadata": {},
   "source": [
    "## Closed Form Solution [Finding Weights using Moore- Penrose pseudo- Inverse Matrix]"
   ]
  },
  {
   "cell_type": "code",
   "execution_count": 113,
   "metadata": {},
   "outputs": [
    {
     "name": "stdout",
     "output_type": "stream",
     "text": [
      "inside 0\n",
      "55699 1\n",
      "6961 1\n",
      "6962 1\n",
      "74.52198423670085,0.565137868842015\n",
      "inside 1\n",
      "55699 10\n",
      "6961 10\n",
      "6962 10\n",
      "73.92233253738846,0.5494694067137861\n",
      "inside 2\n",
      "55699 15\n",
      "6961 15\n",
      "6962 15\n",
      "73.50580800373436,0.5469930517882835\n",
      "inside 3\n",
      "55699 30\n",
      "6961 30\n",
      "6962 30\n",
      "73.09826029192625,0.543265324490255\n"
     ]
    },
    {
     "data": {
      "image/png": "[encoded data removed]",
      "text/plain": [
       "<Figure size 288x288 with 1 Axes>"
      ]
     },
     "metadata": {},
     "output_type": "display_data"
    },
    {
     "data": {
      "image/png": "[encoded data removed]",
      "text/plain": [
       "<Figure size 288x288 with 1 Axes>"
      ]
     },
     "metadata": {},
     "output_type": "display_data"
    }
   ],
   "source": [
    "ErmsArr = []\n",
    "AccuracyArr = []\n",
    "\n",
    "cluster_array = [1,10, 15, 30]\n",
    "lambda_array = [-2, 0.03, 5, 20]\n",
    "\n",
    "for i in range(4):\n",
    "    print('inside '+ str(i))\n",
    "\n",
    "    # we are dividing the dataset in multiple clustors\n",
    "    # and we are not giving any intial value to the centroid\n",
    "    # then we are feeding the training dataset without any sample weight\n",
    "\n",
    "    #kmeans = KMeans(n_clusters=cluster_array[i], random_state=0).fit(np.transpose(TrainingData))\n",
    "    kmeans = KMeans(n_clusters=cluster_array[i], random_state=0).fit(np.transpose(TrainingData))\n",
    "\n",
    "    # cluster_centers_ returns the mean of clusters. The Mu here is a matrix of 10x41 (10 clusters, 41 features)\n",
    "\n",
    "    Mu = kmeans.cluster_centers_\n",
    "\n",
    "    BigSigma     = GenerateBigSigma(RawData, Mu, TrainingPercent,IsSynthetic)\n",
    "\n",
    "    # generating design matrix for training data\n",
    "    TRAINING_PHI = GetPhiMatrix(RawData, Mu, BigSigma, TrainingPercent)\n",
    "\n",
    "    # Weights for computing with design matrix is getting generated here. \n",
    "    # Lambda is a hyperparameter we have set to reduces the spikes in weight.\n",
    "    # If an weight's value is significantly higher than others, features associates with\n",
    "    # it gets much higher priority, as a result, it dominates the other features' importance,\n",
    "    # which may cause overfitting.\n",
    "    W = GetWeightsClosedForm(TRAINING_PHI,TrainingTarget,(C_Lambda))\n",
    "    #W = GetWeightsClosedForm(TRAINING_PHI,TrainingTarget,(lambda_array[i])) \n",
    "\n",
    "    # Generating Design matrix for Testing data\n",
    "    TEST_PHI     = GetPhiMatrix(TestData, Mu, BigSigma, 100) \n",
    "\n",
    "    #Generating design matrix on validation data\n",
    "    VAL_PHI      = GetPhiMatrix(ValData, Mu, BigSigma, 100)\n",
    "\n",
    "    \n",
    "    ## Finding Erms on training, validation and test set \n",
    "    # getting the output on training, validation and testing dataset.\n",
    "\n",
    "    TR_TEST_OUT  = GetValTest(TRAINING_PHI,W)\n",
    "    VAL_TEST_OUT = GetValTest(VAL_PHI,W)\n",
    "    TEST_OUT     = GetValTest(TEST_PHI,W)\n",
    "\n",
    "    # Calculating Root-mean-square error for 3 sets\n",
    "\n",
    "    TrainingAccuracy   = str(GetErms(TR_TEST_OUT,TrainingTarget))\n",
    "    ValidationAccuracy = str(GetErms(VAL_TEST_OUT,ValDataAct))\n",
    "    TestAccuracy       = str(GetErms(TEST_OUT,TestDataAct))\n",
    "    \n",
    "    ErmsArr.append(str(float(TrainingAccuracy.split(',')[1])))\n",
    "    AccuracyArr.append(str(float(TrainingAccuracy.split(',')[0])))\n",
    "    print(str(TrainingAccuracy))\n",
    "    \n",
    "    \n",
    "plt.figure(figsize=[4, 4])\n",
    "plt.plot(cluster_array, ErmsArr, marker='.')\n",
    "plt.xlabel('Clusters')\n",
    "plt.ylabel('ERMS')\n",
    "plt.show()\n",
    "\n",
    "plt.figure(figsize=[4, 4])\n",
    "plt.plot(cluster_array, AccuracyArr, marker='.')\n",
    "plt.xlabel('Clusters')\n",
    "plt.ylabel('Accuracy')\n",
    "plt.show()"
   ]
  },
  {
   "cell_type": "code",
   "execution_count": 84,
   "metadata": {},
   "outputs": [
    {
     "name": "stdout",
     "output_type": "stream",
     "text": [
      "(10, 41)\n",
      "(41, 41)\n",
      "(55699, 10)\n",
      "(10,)\n",
      "(6962, 10)\n",
      "(6961, 10)\n"
     ]
    }
   ],
   "source": [
    "print(Mu.shape)\n",
    "print(BigSigma.shape)\n",
    "print(TRAINING_PHI.shape)\n",
    "print(W.shape)\n",
    "print(VAL_PHI.shape)\n",
    "print(TEST_PHI.shape)"
   ]
  },
  {
   "cell_type": "code",
   "execution_count": 48,
   "metadata": {},
   "outputs": [],
   "source": []
  },
  {
   "cell_type": "code",
   "execution_count": 111,
   "metadata": {},
   "outputs": [
    {
     "name": "stdout",
     "output_type": "stream",
     "text": [
      "UBITname      = amlangup\n",
      "Person Number = 50288686\n",
      "----------------------------------------------------\n",
      "------------------LeToR Data------------------------\n",
      "----------------------------------------------------\n",
      "-------Closed Form with Radial Basis Function-------\n",
      "----------------------------------------------------\n",
      "M = 10 \n",
      "Lambda = 0.9\n",
      "E_rms Training   = 0.5494694067137861\n",
      "E_rms Validation = 0.5384281741389029\n",
      "E_rms Testing    = 0.6279788453856765\n"
     ]
    }
   ],
   "source": [
    "print ('UBITname      = amlangup')\n",
    "print ('Person Number = 50288686')\n",
    "print ('----------------------------------------------------')\n",
    "print (\"------------------LeToR Data------------------------\")\n",
    "print ('----------------------------------------------------')\n",
    "print (\"-------Closed Form with Radial Basis Function-------\")\n",
    "print ('----------------------------------------------------')\n",
    "print (\"M = 10 \\nLambda = 0.9\")\n",
    "print (\"E_rms Training   = \" + str(float(TrainingAccuracy.split(',')[1])))\n",
    "print (\"E_rms Validation = \" + str(float(ValidationAccuracy.split(',')[1])))\n",
    "print (\"E_rms Testing    = \" + str(float(TestAccuracy.split(',')[1])))"
   ]
  },
  {
   "cell_type": "markdown",
   "metadata": {},
   "source": [
    "## Gradient Descent solution for Linear Regression"
   ]
  },
  {
   "cell_type": "code",
   "execution_count": 50,
   "metadata": {},
   "outputs": [
    {
     "name": "stdout",
     "output_type": "stream",
     "text": [
      "----------------------------------------------------\n",
      "--------------Please Wait for 2 mins!----------------\n",
      "----------------------------------------------------\n"
     ]
    }
   ],
   "source": [
    "print ('----------------------------------------------------')\n",
    "print ('--------------Please Wait for 2 mins!----------------')\n",
    "print ('----------------------------------------------------')"
   ]
  },
  {
   "cell_type": "code",
   "execution_count": 51,
   "metadata": {},
   "outputs": [],
   "source": [
    "# We are setting the optimized weight with a variation as initial weight.\n",
    "\n",
    "W_Now        = np.dot(220, W) \n",
    "\n",
    "La           = 2\n",
    "learningRate = 0.01\n",
    "L_Erms_Val   = []\n",
    "L_Erms_TR    = []\n",
    "L_Erms_Test  = []\n",
    "W_Mat        = []\n",
    "\n",
    "\n",
    "# We are going to ananlyze only a small number of data, as the weights \n",
    "# are already close to optimized, and there are not much room for improvement, \n",
    "# so analying whole training set is redundant.\n",
    "for i in range(0,400):\n",
    "    \n",
    "    # We are implementing Stochastic\n",
    "    \n",
    "    #print ('---------Iteration: ' + str(i) + '--------------')\n",
    "    \n",
    "    # here we are calculating the weight changes we have to get a more optimized solution\n",
    "    # for that we have to calculate the error changes first and combining with learning rate\n",
    "    # we decide what will be the new weights for next iteration.\n",
    "    \n",
    "    Delta_E_D     = -np.dot((TrainingTarget[i] - np.dot(np.transpose(W_Now),TRAINING_PHI[i])),TRAINING_PHI[i])\n",
    "    La_Delta_E_W  = np.dot(La,W_Now)\n",
    "    Delta_E       = np.add(Delta_E_D,La_Delta_E_W)    \n",
    "    Delta_W       = -np.dot(learningRate,Delta_E)\n",
    "    W_T_Next      = W_Now + Delta_W\n",
    "    W_Now         = W_T_Next\n",
    "    \n",
    "    \n",
    "    # We are printing out Traing, Validatin and testing data on the fly during iteration.\n",
    "    # In a real world scenario, training a model could take multiple days,\n",
    "    # so it's the norm to print out changes during the iteration as they can be\n",
    "    # monitored in real time\n",
    "    \n",
    "    #-----------------TrainingData Accuracy---------------------#\n",
    "    TR_TEST_OUT   = GetValTest(TRAINING_PHI,W_T_Next) \n",
    "    Erms_TR       = GetErms(TR_TEST_OUT,TrainingTarget)\n",
    "    L_Erms_TR.append(float(Erms_TR.split(',')[1]))\n",
    "    \n",
    "    #-----------------ValidationData Accuracy---------------------#\n",
    "    VAL_TEST_OUT  = GetValTest(VAL_PHI,W_T_Next) \n",
    "    Erms_Val      = GetErms(VAL_TEST_OUT,ValDataAct)\n",
    "    L_Erms_Val.append(float(Erms_Val.split(',')[1]))\n",
    "    \n",
    "    #-----------------TestingData Accuracy---------------------#\n",
    "    TEST_OUT      = GetValTest(TEST_PHI,W_T_Next) \n",
    "    Erms_Test = GetErms(TEST_OUT,TestDataAct)\n",
    "    L_Erms_Test.append(float(Erms_Test.split(',')[1]))"
   ]
  },
  {
   "cell_type": "code",
   "execution_count": 52,
   "metadata": {},
   "outputs": [
    {
     "name": "stdout",
     "output_type": "stream",
     "text": [
      "----------Gradient Descent Solution--------------------\n",
      "M = 15 \n",
      "Lambda  = 0.0001\n",
      "eta=0.01\n",
      "E_rms Training   = 0.54964\n",
      "E_rms Validation = 0.53846\n",
      "E_rms Testing    = 0.62372\n"
     ]
    }
   ],
   "source": [
    "print ('----------Gradient Descent Solution--------------------')\n",
    "print (\"M = 15 \\nLambda  = 0.0001\\neta=0.01\")\n",
    "print (\"E_rms Training   = \" + str(np.around(min(L_Erms_TR),5)))\n",
    "print (\"E_rms Validation = \" + str(np.around(min(L_Erms_Val),5)))\n",
    "print (\"E_rms Testing    = \" + str(np.around(min(L_Erms_Test),5)))"
   ]
  },
  {
   "cell_type": "code",
   "execution_count": null,
   "metadata": {},
   "outputs": [],
   "source": []
  }
 ],
 "metadata": {
  "kernelspec": {
   "display_name": "Python 3",
   "language": "python",
   "name": "python3"
  },
  "language_info": {
   "codemirror_mode": {
    "name": "ipython",
    "version": 3
   },
   "file_extension": ".py",
   "mimetype": "text/x-python",
   "name": "python",
   "nbconvert_exporter": "python",
   "pygments_lexer": "ipython3",
   "version": "3.6.6"
  }
 },
 "nbformat": 4,
 "nbformat_minor": 2
}
